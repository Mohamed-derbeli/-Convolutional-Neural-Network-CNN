{
  "nbformat": 4,
  "nbformat_minor": 0,
  "metadata": {
    "colab": {
      "name": "Happy_or_Sad.ipynb",
      "provenance": [],
      "authorship_tag": "ABX9TyOciUAS0B75JfT998EUc25a",
      "include_colab_link": true
    },
    "kernelspec": {
      "name": "python3",
      "display_name": "Python 3"
    },
    "language_info": {
      "name": "python"
    }
  },
  "cells": [
    {
      "cell_type": "markdown",
      "metadata": {
        "id": "view-in-github",
        "colab_type": "text"
      },
      "source": [
        "<a href=\"https://colab.research.google.com/github/Mohamed-derbeli/-Convolutional-Neural-Network-CNN/blob/main/Happy_or_Sad.ipynb\" target=\"_parent\"><img src=\"https://colab.research.google.com/assets/colab-badge.svg\" alt=\"Open In Colab\"/></a>"
      ]
    },
    {
      "cell_type": "markdown",
      "metadata": {
        "id": "fV35yZi4ruxm"
      },
      "source": [
        "Below is code with a link to a happy or sad dataset which contains 80 images, 40 happy and 40 sad. \n",
        "\n",
        "Create a convolutional neural network that trains to 100% accuracy on these images, which cancels training upon hitting training accuracy of >.999\n",
        "\n",
        "Hint -- it will work best with 3 convolutional layers."
      ]
    },
    {
      "cell_type": "code",
      "metadata": {
        "colab": {
          "base_uri": "https://localhost:8080/"
        },
        "id": "1-q23IqqrJ56",
        "outputId": "3ea8c067-22b6-49fb-acde-59d9cc972286"
      },
      "source": [
        "import tensorflow as tf\n",
        "import os\n",
        "import zipfile\n",
        "\n",
        "\n",
        "!gdown --id 1NvV6VhmrfU8JDZNoEbwJxwx_6dhyN5bf \n",
        "\n",
        "zip_ref = zipfile.ZipFile(\"./happy-or-sad.zip\", 'r')\n",
        "zip_ref.extractall(\"./h-or-s\")\n",
        "zip_ref.close()"
      ],
      "execution_count": null,
      "outputs": [
        {
          "output_type": "stream",
          "name": "stdout",
          "text": [
            "Downloading...\n",
            "From: https://drive.google.com/uc?id=1NvV6VhmrfU8JDZNoEbwJxwx_6dhyN5bf\n",
            "To: /content/happy-or-sad.zip\n",
            "\r0.00B [00:00, ?B/s]\r2.67MB [00:00, 170MB/s]\n"
          ]
        }
      ]
    },
    {
      "cell_type": "code",
      "metadata": {
        "id": "CgtEoUNTrb2J"
      },
      "source": [
        "#Building the Model\n",
        "# GRADED FUNCTION: train_happy_sad_model\n",
        "def train_happy_sad_model():\n",
        "    # Please write your code only where you are indicated.\n",
        "    # please do not remove # model fitting inline comments.\n",
        "\n",
        "    DESIRED_ACCURACY = 0.999\n",
        "\n",
        "    class myCallback(tf.keras.callbacks.Callback):\n",
        "        def on_epoch_end(self, epoch, logs={}):\n",
        "            if(logs.get('accuracy') > DESIRED_ACCURACY):\n",
        "                print(\"\\nReached 99% accuracy so cancelling training!\")\n",
        "                self.model.stop_training = True\n",
        "\n",
        "    callbacks = myCallback()\n",
        "\n",
        "\n",
        "\n",
        "#sad_or_happy = tf.keras.datasets.sad_or_happy\n",
        "# (training_images, training_labels), (test_images, test_labels) = mnist.load_data()\n",
        "# training_images=training_images.reshape(60000, 28, 28, 1)\n",
        "# training_images=training_images / 255.0\n",
        "# test_images = test_images.reshape(10000, 28, 28, 1)\n",
        "# test_images=test_images/255.0\n",
        "    \n",
        "    # This Code Block should Define and Compile the Model. Please assume the images are 150 X 150 in your implementation.\n",
        "        \n",
        "    model = tf.keras.models.Sequential([\n",
        "        #In the earlier example it was 28x28x1, because the image was 28x28 in greyscale (8 bits, 1 byte for color depth).\n",
        "        #This time it is 150x150 for the size and 3 (24 bits, 3 bytes) for the color depth.\n",
        "        # This is the first convolution\n",
        "        tf.keras.layers.Conv2D(16, (3,3), activation='relu', input_shape=(150, 150, 3)),\n",
        "        tf.keras.layers.MaxPooling2D(2, 2),\n",
        "        # The second convolution\n",
        "        tf.keras.layers.Conv2D(32, (3,3), activation='relu'),\n",
        "        tf.keras.layers.MaxPooling2D(2,2),\n",
        "        # The third convolution\n",
        "        tf.keras.layers.Conv2D(64, (3,3), activation='relu'),\n",
        "        tf.keras.layers.MaxPooling2D(2,2),\n",
        "        # Flatten the results to feed into a DNN\n",
        "        tf.keras.layers.Flatten(),\n",
        "        # 512 neuron hidden layer\n",
        "        tf.keras.layers.Dense(512, activation='relu'),\n",
        "        # Only 1 output neuron. It will contain a value from 0-1 where 0 for 1 class ('sad') and 1 for the other ('happy')\n",
        "        tf.keras.layers.Dense(1, activation='sigmoid')\n",
        "    ])\n",
        "                \n",
        "    model.summary()  #The model.summary() method call prints a summary of the NN\n",
        "\n",
        "    #NOTE: In this case, using the RMSprop optimization algorithm is preferable to stochastic gradient descent (SGD), \n",
        "    #because RMSprop automates learning-rate tuning for us. (Other optimizers, such as Adam and Adagrad, also automatically\n",
        "    #adapt the learning rate during training, and would work equally well here.)\n",
        "    \n",
        "    from tensorflow.keras.optimizers import RMSprop\n",
        "\n",
        "    model.compile(loss='binary_crossentropy',\n",
        "              optimizer=RMSprop(learning_rate=0.001),\n",
        "              metrics=['accuracy'])\n",
        "                \n",
        "#Data Preprocessing\n",
        "    # This code block should create an instance of an ImageDataGenerator called train_datagen \n",
        "    # And a train_generator by calling train_datagen.flow_from_directory\n",
        "\n",
        "    from tensorflow.keras.preprocessing.image import ImageDataGenerator\n",
        "\n",
        "     # All images will be rescaled by 1./255\n",
        "    train_datagen = ImageDataGenerator(rescale=1/255)\n",
        "    # Flow training images in batches of 128 using train_datagen generator\n",
        "    train_generator = train_datagen.flow_from_directory(\n",
        "        './h-or-s',  # This is the source directory for training images\n",
        "        target_size=(150, 150),  # All images will be resized to 150x150\n",
        "        batch_size=10,\n",
        "        class_mode='binary')# Since we use binary_crossentropy loss, we need binary labels\n",
        "    # Expected output: 'Found 80 images belonging to 2 classes'\n",
        "    \n",
        "    \n",
        "#Training\n",
        "    # This code block should call model.fit_generator and train for\n",
        "    # a number of epochs.\n",
        "    # model fitting\n",
        "    history = model.fit_generator(\n",
        "                  train_generator,\n",
        "                  steps_per_epoch=8,  #there are 80 images in batches of 10 so 8 steps_per_epoch\n",
        "                  epochs=20,\n",
        "                  verbose=1,\n",
        "                  #validation_data = validation_generator,\n",
        "                  #validation_steps=8\n",
        "                callbacks=[callbacks])\n",
        "    # model fitting\n",
        "    return history.history['accuracy'][-1]"
      ],
      "execution_count": null,
      "outputs": []
    },
    {
      "cell_type": "code",
      "metadata": {
        "colab": {
          "base_uri": "https://localhost:8080/"
        },
        "id": "-lkRuxmOsQbn",
        "outputId": "bb5f53ae-44bc-4bfd-dfb3-fb0f8e9e2fe6"
      },
      "source": [
        "# The Expected output: \"Reached 99.9% accuracy so cancelling training!\"\"\n",
        "train_happy_sad_model()"
      ],
      "execution_count": null,
      "outputs": [
        {
          "output_type": "stream",
          "name": "stdout",
          "text": [
            "Model: \"sequential_26\"\n",
            "_________________________________________________________________\n",
            "Layer (type)                 Output Shape              Param #   \n",
            "=================================================================\n",
            "conv2d_78 (Conv2D)           (None, 148, 148, 16)      448       \n",
            "_________________________________________________________________\n",
            "max_pooling2d_78 (MaxPooling (None, 74, 74, 16)        0         \n",
            "_________________________________________________________________\n",
            "conv2d_79 (Conv2D)           (None, 72, 72, 32)        4640      \n",
            "_________________________________________________________________\n",
            "max_pooling2d_79 (MaxPooling (None, 36, 36, 32)        0         \n",
            "_________________________________________________________________\n",
            "conv2d_80 (Conv2D)           (None, 34, 34, 64)        18496     \n",
            "_________________________________________________________________\n",
            "max_pooling2d_80 (MaxPooling (None, 17, 17, 64)        0         \n",
            "_________________________________________________________________\n",
            "flatten_26 (Flatten)         (None, 18496)             0         \n",
            "_________________________________________________________________\n",
            "dense_52 (Dense)             (None, 512)               9470464   \n",
            "_________________________________________________________________\n",
            "dense_53 (Dense)             (None, 1)                 513       \n",
            "=================================================================\n",
            "Total params: 9,494,561\n",
            "Trainable params: 9,494,561\n",
            "Non-trainable params: 0\n",
            "_________________________________________________________________\n",
            "Found 80 images belonging to 2 classes.\n",
            "Epoch 1/20\n"
          ]
        },
        {
          "output_type": "stream",
          "name": "stderr",
          "text": [
            "/usr/local/lib/python3.7/dist-packages/keras/engine/training.py:1972: UserWarning: `Model.fit_generator` is deprecated and will be removed in a future version. Please use `Model.fit`, which supports generators.\n",
            "  warnings.warn('`Model.fit_generator` is deprecated and '\n"
          ]
        },
        {
          "output_type": "stream",
          "name": "stdout",
          "text": [
            "8/8 [==============================] - 2s 215ms/step - loss: 2.9765 - accuracy: 0.6500\n",
            "Epoch 2/20\n",
            "8/8 [==============================] - 2s 221ms/step - loss: 0.5450 - accuracy: 0.7875\n",
            "Epoch 3/20\n",
            "8/8 [==============================] - 2s 212ms/step - loss: 0.2921 - accuracy: 0.8875\n",
            "Epoch 4/20\n",
            "8/8 [==============================] - 2s 199ms/step - loss: 0.2469 - accuracy: 0.8875\n",
            "Epoch 5/20\n",
            "8/8 [==============================] - 2s 198ms/step - loss: 0.1862 - accuracy: 0.9375\n",
            "Epoch 6/20\n",
            "8/8 [==============================] - 2s 191ms/step - loss: 0.1843 - accuracy: 0.8875\n",
            "Epoch 7/20\n",
            "8/8 [==============================] - 2s 191ms/step - loss: 0.1781 - accuracy: 0.9250\n",
            "Epoch 8/20\n",
            "8/8 [==============================] - 2s 191ms/step - loss: 0.2569 - accuracy: 0.8625\n",
            "Epoch 9/20\n",
            "8/8 [==============================] - 2s 191ms/step - loss: 0.0611 - accuracy: 0.9750\n",
            "Epoch 10/20\n",
            "8/8 [==============================] - 2s 194ms/step - loss: 0.2002 - accuracy: 0.9125\n",
            "Epoch 11/20\n",
            "8/8 [==============================] - 9s 1s/step - loss: 0.1275 - accuracy: 0.9500\n",
            "Epoch 12/20\n",
            "8/8 [==============================] - 2s 193ms/step - loss: 0.0199 - accuracy: 1.0000\n",
            "\n",
            "Reached 99% accuracy so cancelling training!\n"
          ]
        },
        {
          "output_type": "execute_result",
          "data": {
            "text/plain": [
              "1.0"
            ]
          },
          "metadata": {},
          "execution_count": 89
        }
      ]
    }
  ]
}